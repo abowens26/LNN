





from lnn import Proposition, Fact

Messi = Proposition("Messi")
Messi.add_data(Fact.TRUE)
Messi.print()





from lnn import Proposition, Fact

Rain = Proposition("Rain")
Rain.add_data((.7, 1.0))
Rain.print()





from lnn import And, Fact

# Rules
EPL = Proposition("English Premier League")
BornInEngland = Proposition("Born in England")
AND = And(EPL, BornInEngland)

# Data
EPL.add_data((1.0, 1.0))
BornInEngland.add_data((0.1, .4))

# Reasoning
AND.upward()
AND.print()








from lnn import Implies

# Rules
BornInArgentina = Proposition("Born in Argentina")
SpeaksSpanish = Proposition("Speaks Spanish")
IMPLIES = Implies(BornInArgentina, SpeaksSpanish)

# Data
BornInArgentina.add_data((1.0, 1.0))
IMPLIES.add_data((.8, 1.0))

# Reasoning
IMPLIES.downward()
SpeaksSpanish.print()






